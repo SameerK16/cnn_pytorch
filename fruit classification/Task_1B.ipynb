{
 "cells": [
  {
   "cell_type": "markdown",
   "metadata": {},
   "source": [
    "# Fruit classification with a CNN using Pytorch"
   ]
  },
  {
   "cell_type": "code",
   "execution_count": 1,
   "metadata": {},
   "outputs": [],
   "source": [
    "from model import FNet\n",
    "# import required modules\n",
    "from utils import dataset\n",
    "import torch \n",
    "import torch.tensor\n",
    "import torch.nn as nn\n",
    "import torchvision.transforms as transforms\n",
    "from torch.autograd import Variable\n",
    "from matplotlib import pyplot as plt\n",
    "import numpy as np\n",
    "from sklearn.metrics import confusion_matrix "
   ]
  },
  {
   "cell_type": "markdown",
   "metadata": {},
   "source": [
    "#### Loading dataframe using dataset module "
   ]
  },
  {
   "cell_type": "code",
   "execution_count": 2,
   "metadata": {},
   "outputs": [
    {
     "name": "stdout",
     "output_type": "stream",
     "text": [
      "csv file for dataset is already present.\n",
      "Dataframe is created.\n"
     ]
    }
   ],
   "source": [
    "df, df_train, df_test = dataset.create_and_load_meta_csv_df(dataset_path='../Data/fruits/', destination_path='./', randomize=True, split=0.8)"
   ]
  },
  {
   "cell_type": "markdown",
   "metadata": {},
   "source": [
    "#### Visualise data"
   ]
  },
  {
   "cell_type": "code",
   "execution_count": 3,
   "metadata": {},
   "outputs": [
    {
     "data": {
      "text/html": [
       "<div>\n",
       "<style scoped>\n",
       "    .dataframe tbody tr th:only-of-type {\n",
       "        vertical-align: middle;\n",
       "    }\n",
       "\n",
       "    .dataframe tbody tr th {\n",
       "        vertical-align: top;\n",
       "    }\n",
       "\n",
       "    .dataframe thead th {\n",
       "        text-align: right;\n",
       "    }\n",
       "</style>\n",
       "<table border=\"1\" class=\"dataframe\">\n",
       "  <thead>\n",
       "    <tr style=\"text-align: right;\">\n",
       "      <th></th>\n",
       "      <th>1.0</th>\n",
       "      <th>2.0</th>\n",
       "      <th>3.0</th>\n",
       "      <th>4.0</th>\n",
       "      <th>5.0</th>\n",
       "      <th>6.0</th>\n",
       "      <th>7.0</th>\n",
       "      <th>8.0</th>\n",
       "      <th>9.0</th>\n",
       "      <th>10.0</th>\n",
       "      <th>...</th>\n",
       "      <th>9992.0</th>\n",
       "      <th>9993.0</th>\n",
       "      <th>9994.0</th>\n",
       "      <th>9995.0</th>\n",
       "      <th>9996.0</th>\n",
       "      <th>9997.0</th>\n",
       "      <th>9998.0</th>\n",
       "      <th>9999.0</th>\n",
       "      <th>10000.0</th>\n",
       "      <th>label</th>\n",
       "    </tr>\n",
       "  </thead>\n",
       "  <tbody>\n",
       "    <tr>\n",
       "      <th>2166</th>\n",
       "      <td>255</td>\n",
       "      <td>255</td>\n",
       "      <td>255</td>\n",
       "      <td>255</td>\n",
       "      <td>255</td>\n",
       "      <td>255</td>\n",
       "      <td>255</td>\n",
       "      <td>255</td>\n",
       "      <td>255</td>\n",
       "      <td>255</td>\n",
       "      <td>...</td>\n",
       "      <td>255</td>\n",
       "      <td>255</td>\n",
       "      <td>255</td>\n",
       "      <td>255</td>\n",
       "      <td>255</td>\n",
       "      <td>255</td>\n",
       "      <td>255</td>\n",
       "      <td>255</td>\n",
       "      <td>255</td>\n",
       "      <td>3</td>\n",
       "    </tr>\n",
       "    <tr>\n",
       "      <th>826</th>\n",
       "      <td>255</td>\n",
       "      <td>255</td>\n",
       "      <td>255</td>\n",
       "      <td>255</td>\n",
       "      <td>255</td>\n",
       "      <td>255</td>\n",
       "      <td>255</td>\n",
       "      <td>255</td>\n",
       "      <td>255</td>\n",
       "      <td>255</td>\n",
       "      <td>...</td>\n",
       "      <td>255</td>\n",
       "      <td>255</td>\n",
       "      <td>255</td>\n",
       "      <td>255</td>\n",
       "      <td>255</td>\n",
       "      <td>255</td>\n",
       "      <td>255</td>\n",
       "      <td>255</td>\n",
       "      <td>255</td>\n",
       "      <td>1</td>\n",
       "    </tr>\n",
       "    <tr>\n",
       "      <th>994</th>\n",
       "      <td>253</td>\n",
       "      <td>254</td>\n",
       "      <td>254</td>\n",
       "      <td>254</td>\n",
       "      <td>253</td>\n",
       "      <td>252</td>\n",
       "      <td>252</td>\n",
       "      <td>253</td>\n",
       "      <td>254</td>\n",
       "      <td>254</td>\n",
       "      <td>...</td>\n",
       "      <td>255</td>\n",
       "      <td>255</td>\n",
       "      <td>255</td>\n",
       "      <td>255</td>\n",
       "      <td>255</td>\n",
       "      <td>255</td>\n",
       "      <td>255</td>\n",
       "      <td>255</td>\n",
       "      <td>255</td>\n",
       "      <td>2</td>\n",
       "    </tr>\n",
       "    <tr>\n",
       "      <th>1936</th>\n",
       "      <td>255</td>\n",
       "      <td>255</td>\n",
       "      <td>255</td>\n",
       "      <td>255</td>\n",
       "      <td>255</td>\n",
       "      <td>255</td>\n",
       "      <td>255</td>\n",
       "      <td>255</td>\n",
       "      <td>255</td>\n",
       "      <td>255</td>\n",
       "      <td>...</td>\n",
       "      <td>255</td>\n",
       "      <td>255</td>\n",
       "      <td>255</td>\n",
       "      <td>255</td>\n",
       "      <td>255</td>\n",
       "      <td>255</td>\n",
       "      <td>255</td>\n",
       "      <td>255</td>\n",
       "      <td>255</td>\n",
       "      <td>4</td>\n",
       "    </tr>\n",
       "    <tr>\n",
       "      <th>1049</th>\n",
       "      <td>254</td>\n",
       "      <td>254</td>\n",
       "      <td>254</td>\n",
       "      <td>253</td>\n",
       "      <td>253</td>\n",
       "      <td>254</td>\n",
       "      <td>254</td>\n",
       "      <td>255</td>\n",
       "      <td>254</td>\n",
       "      <td>254</td>\n",
       "      <td>...</td>\n",
       "      <td>255</td>\n",
       "      <td>255</td>\n",
       "      <td>255</td>\n",
       "      <td>255</td>\n",
       "      <td>255</td>\n",
       "      <td>255</td>\n",
       "      <td>255</td>\n",
       "      <td>255</td>\n",
       "      <td>255</td>\n",
       "      <td>2</td>\n",
       "    </tr>\n",
       "    <tr>\n",
       "      <th>...</th>\n",
       "      <td>...</td>\n",
       "      <td>...</td>\n",
       "      <td>...</td>\n",
       "      <td>...</td>\n",
       "      <td>...</td>\n",
       "      <td>...</td>\n",
       "      <td>...</td>\n",
       "      <td>...</td>\n",
       "      <td>...</td>\n",
       "      <td>...</td>\n",
       "      <td>...</td>\n",
       "      <td>...</td>\n",
       "      <td>...</td>\n",
       "      <td>...</td>\n",
       "      <td>...</td>\n",
       "      <td>...</td>\n",
       "      <td>...</td>\n",
       "      <td>...</td>\n",
       "      <td>...</td>\n",
       "      <td>...</td>\n",
       "      <td>...</td>\n",
       "    </tr>\n",
       "    <tr>\n",
       "      <th>1778</th>\n",
       "      <td>255</td>\n",
       "      <td>255</td>\n",
       "      <td>255</td>\n",
       "      <td>255</td>\n",
       "      <td>255</td>\n",
       "      <td>255</td>\n",
       "      <td>255</td>\n",
       "      <td>255</td>\n",
       "      <td>255</td>\n",
       "      <td>255</td>\n",
       "      <td>...</td>\n",
       "      <td>255</td>\n",
       "      <td>255</td>\n",
       "      <td>255</td>\n",
       "      <td>255</td>\n",
       "      <td>255</td>\n",
       "      <td>255</td>\n",
       "      <td>255</td>\n",
       "      <td>255</td>\n",
       "      <td>255</td>\n",
       "      <td>4</td>\n",
       "    </tr>\n",
       "    <tr>\n",
       "      <th>1291</th>\n",
       "      <td>254</td>\n",
       "      <td>254</td>\n",
       "      <td>254</td>\n",
       "      <td>254</td>\n",
       "      <td>254</td>\n",
       "      <td>254</td>\n",
       "      <td>253</td>\n",
       "      <td>252</td>\n",
       "      <td>254</td>\n",
       "      <td>254</td>\n",
       "      <td>...</td>\n",
       "      <td>255</td>\n",
       "      <td>255</td>\n",
       "      <td>255</td>\n",
       "      <td>255</td>\n",
       "      <td>255</td>\n",
       "      <td>255</td>\n",
       "      <td>255</td>\n",
       "      <td>255</td>\n",
       "      <td>255</td>\n",
       "      <td>2</td>\n",
       "    </tr>\n",
       "    <tr>\n",
       "      <th>1645</th>\n",
       "      <td>255</td>\n",
       "      <td>255</td>\n",
       "      <td>255</td>\n",
       "      <td>255</td>\n",
       "      <td>255</td>\n",
       "      <td>255</td>\n",
       "      <td>255</td>\n",
       "      <td>255</td>\n",
       "      <td>255</td>\n",
       "      <td>255</td>\n",
       "      <td>...</td>\n",
       "      <td>255</td>\n",
       "      <td>255</td>\n",
       "      <td>255</td>\n",
       "      <td>255</td>\n",
       "      <td>255</td>\n",
       "      <td>255</td>\n",
       "      <td>255</td>\n",
       "      <td>255</td>\n",
       "      <td>255</td>\n",
       "      <td>4</td>\n",
       "    </tr>\n",
       "    <tr>\n",
       "      <th>2371</th>\n",
       "      <td>255</td>\n",
       "      <td>255</td>\n",
       "      <td>255</td>\n",
       "      <td>255</td>\n",
       "      <td>255</td>\n",
       "      <td>255</td>\n",
       "      <td>255</td>\n",
       "      <td>255</td>\n",
       "      <td>255</td>\n",
       "      <td>255</td>\n",
       "      <td>...</td>\n",
       "      <td>255</td>\n",
       "      <td>255</td>\n",
       "      <td>255</td>\n",
       "      <td>255</td>\n",
       "      <td>255</td>\n",
       "      <td>255</td>\n",
       "      <td>255</td>\n",
       "      <td>255</td>\n",
       "      <td>255</td>\n",
       "      <td>3</td>\n",
       "    </tr>\n",
       "    <tr>\n",
       "      <th>1176</th>\n",
       "      <td>253</td>\n",
       "      <td>253</td>\n",
       "      <td>253</td>\n",
       "      <td>252</td>\n",
       "      <td>252</td>\n",
       "      <td>252</td>\n",
       "      <td>253</td>\n",
       "      <td>253</td>\n",
       "      <td>252</td>\n",
       "      <td>254</td>\n",
       "      <td>...</td>\n",
       "      <td>255</td>\n",
       "      <td>255</td>\n",
       "      <td>255</td>\n",
       "      <td>255</td>\n",
       "      <td>255</td>\n",
       "      <td>255</td>\n",
       "      <td>255</td>\n",
       "      <td>255</td>\n",
       "      <td>255</td>\n",
       "      <td>2</td>\n",
       "    </tr>\n",
       "  </tbody>\n",
       "</table>\n",
       "<p>2443 rows × 10001 columns</p>\n",
       "</div>"
      ],
      "text/plain": [
       "      1.0  2.0  3.0  4.0  5.0  6.0  7.0  8.0  9.0  10.0  ...  9992.0  9993.0  \\\n",
       "2166  255  255  255  255  255  255  255  255  255   255  ...     255     255   \n",
       "826   255  255  255  255  255  255  255  255  255   255  ...     255     255   \n",
       "994   253  254  254  254  253  252  252  253  254   254  ...     255     255   \n",
       "1936  255  255  255  255  255  255  255  255  255   255  ...     255     255   \n",
       "1049  254  254  254  253  253  254  254  255  254   254  ...     255     255   \n",
       "...   ...  ...  ...  ...  ...  ...  ...  ...  ...   ...  ...     ...     ...   \n",
       "1778  255  255  255  255  255  255  255  255  255   255  ...     255     255   \n",
       "1291  254  254  254  254  254  254  253  252  254   254  ...     255     255   \n",
       "1645  255  255  255  255  255  255  255  255  255   255  ...     255     255   \n",
       "2371  255  255  255  255  255  255  255  255  255   255  ...     255     255   \n",
       "1176  253  253  253  252  252  252  253  253  252   254  ...     255     255   \n",
       "\n",
       "      9994.0  9995.0  9996.0  9997.0  9998.0  9999.0  10000.0  label  \n",
       "2166     255     255     255     255     255     255      255      3  \n",
       "826      255     255     255     255     255     255      255      1  \n",
       "994      255     255     255     255     255     255      255      2  \n",
       "1936     255     255     255     255     255     255      255      4  \n",
       "1049     255     255     255     255     255     255      255      2  \n",
       "...      ...     ...     ...     ...     ...     ...      ...    ...  \n",
       "1778     255     255     255     255     255     255      255      4  \n",
       "1291     255     255     255     255     255     255      255      2  \n",
       "1645     255     255     255     255     255     255      255      4  \n",
       "2371     255     255     255     255     255     255      255      3  \n",
       "1176     255     255     255     255     255     255      255      2  \n",
       "\n",
       "[2443 rows x 10001 columns]"
      ]
     },
     "execution_count": 3,
     "metadata": {},
     "output_type": "execute_result"
    }
   ],
   "source": [
    "df"
   ]
  },
  {
   "cell_type": "code",
   "execution_count": 4,
   "metadata": {},
   "outputs": [
    {
     "data": {
      "image/png": "[encoded data removed]",
      "text/plain": [
       "<Figure size 432x288 with 4 Axes>"
      ]
     },
     "metadata": {
      "needs_background": "light"
     },
     "output_type": "display_data"
    }
   ],
   "source": [
    "id_rand = np.random.randint(0, 2443, size = 4)\n",
    "images = list()\n",
    "labels = list()\n",
    "fruit =[\"Apple\",\"Banana\",\"Orange\",\"Pineapple\",\"Strawberry\"]\n",
    "\n",
    "for x in id_rand:\n",
    "    images.append(np.reshape(np.asarray(df.iloc[x][0:10000], dtype = np.float), (100, 100)))\n",
    "    labels.append(df.iloc[x]['label'])\n",
    "    \n",
    "for c in range(len(images)):\n",
    "    plt.figure(1) \n",
    "    plt.subplot(1,4,c+1) #create subplot for fruits images\n",
    "    plt.imshow(images[c],cmap = plt.get_cmap('gray')) #show grayscale image of fruits which is store in .csv file\n",
    "    plt.title(fruit[labels[c]])\n",
    "    #print('Label :', labels[c]['label']) #print label of fruit   \n",
    "    "
   ]
  },
  {
   "cell_type": "markdown",
   "metadata": {},
   "source": [
    "#### Create a custom dataloader and apply Transforms"
   ]
  },
  {
   "cell_type": "code",
   "execution_count": 5,
   "metadata": {},
   "outputs": [],
   "source": [
    "data_transforms = {\n",
    "    'train': transforms.Compose([transforms.ToTensor()]),\n",
    "    'test': transforms.Compose([transforms.ToTensor()]) }\n",
    "\n",
    "image_datasets = {'train': dataset.ImageDataset(df_train, transform=data_transforms['train']), \n",
    "                'test': dataset.ImageDataset(df_test, transform=data_transforms['test'])}"
   ]
  },
  {
   "cell_type": "code",
   "execution_count": 6,
   "metadata": {},
   "outputs": [],
   "source": [
    "dataloaders = { 'train_loader': torch.utils.data.DataLoader(image_datasets['train'],batch_size=7,shuffle=True),\n",
    "                    'test_loader': torch.utils.data.DataLoader(image_datasets['test'],batch_size=7,shuffle=True) }"
   ]
  },
  {
   "cell_type": "markdown",
   "metadata": {},
   "source": [
    "#### Neural Network, loss function and optimizer"
   ]
  },
  {
   "cell_type": "code",
   "execution_count": 7,
   "metadata": {},
   "outputs": [],
   "source": [
    "device = torch.device('cuda:0' if torch.cuda.is_available() else 'cpu')\n",
    "cnn=FNet().to(device) #create model called cnn\n",
    "loss_func = nn.CrossEntropyLoss() #create Cross Entropy loss function\n",
    "optimizer = torch.optim.SGD(cnn.parameters(), lr=0.001) #Use Adam optimizer with learning rate=0.001\n",
    "\n",
    "epoch = 2 #no of epochs"
   ]
  },
  {
   "cell_type": "code",
   "execution_count": 8,
   "metadata": {},
   "outputs": [
    {
     "data": {
      "text/plain": [
       "FNet(\n",
       "  (layer1): Sequential(\n",
       "    (0): Conv2d(1, 8, kernel_size=(5, 5), stride=(1, 1), padding=(2, 2))\n",
       "    (1): BatchNorm2d(8, eps=1e-05, momentum=0.1, affine=True, track_running_stats=True)\n",
       "    (2): ReLU()\n",
       "    (3): MaxPool2d(kernel_size=2, stride=2, padding=0, dilation=1, ceil_mode=False)\n",
       "  )\n",
       "  (fc1): Linear(in_features=20000, out_features=300, bias=True)\n",
       "  (activ): ReLU()\n",
       "  (regu): Dropout(p=0.1)\n",
       "  (fc2): Linear(in_features=300, out_features=5, bias=True)\n",
       ")"
      ]
     },
     "execution_count": 8,
     "metadata": {},
     "output_type": "execute_result"
    }
   ],
   "source": [
    "cnn"
   ]
  },
  {
   "cell_type": "markdown",
   "metadata": {},
   "source": [
    "#### Training and Validation "
   ]
  },
  {
   "cell_type": "code",
   "execution_count": 12,
   "metadata": {},
   "outputs": [
    {
     "name": "stdout",
     "output_type": "stream",
     "text": [
      "epoch :  1\n",
      "0 \t::: loss --- 1.1411939859390259\n",
      "Accuracy of Train Data :  72.56908904810645\n",
      "Accuracy of Validation Data :  71.37014314928425\n",
      "100 \t::: loss --- 0.6025460362434387\n",
      "Accuracy of Train Data :  81.37154554759468\n",
      "Accuracy of Validation Data :  78.93660531697341\n",
      "200 \t::: loss --- 0.5985532402992249\n",
      "Accuracy of Train Data :  92.11873080859775\n",
      "Accuracy of Validation Data :  91.20654396728017\n",
      "epoch :  2\n",
      "0 \t::: loss --- 0.2858656942844391\n",
      "Accuracy of Train Data :  92.32343909928352\n",
      "Accuracy of Validation Data :  91.61554192229039\n",
      "100 \t::: loss --- 0.3262154757976532\n",
      "Accuracy of Train Data :  94.47287615148413\n",
      "Accuracy of Validation Data :  94.47852760736197\n",
      "200 \t::: loss --- 0.3246229588985443\n",
      "Accuracy of Train Data :  95.95701125895599\n",
      "Accuracy of Validation Data :  95.91002044989774\n"
     ]
    },
    {
     "data": {
      "image/png": "[encoded data removed]",
      "text/plain": [
       "<Figure size 432x288 with 1 Axes>"
      ]
     },
     "metadata": {
      "needs_background": "light"
     },
     "output_type": "display_data"
    }
   ],
   "source": [
    "for i in range(epoch): \n",
    "    print('epoch : ',i+1) #print current epoch \n",
    "    num_times=0\n",
    "    losses=[] #array to store loss after every 100 batches\n",
    "    for j,[image1,label1] in enumerate(dataloaders['train_loader']): #get image and label from train_loader\n",
    "        image = Variable(image1) \n",
    "        label = Variable(label1)\n",
    "\n",
    "        optimizer.zero_grad()\n",
    "        result = cnn.forward(image1) #use cnn model to get result\n",
    "        loss = loss_func(result,label1) # use cross entrpy loss function to calculate loss\n",
    "        loss.backward() #use back propagation\n",
    "        optimizer.step()\n",
    "\n",
    "        if j % 100 == 0: \n",
    "            print(j,'\\t::: loss ---',loss.item()) #after 100 batches print loss\n",
    "            losses.append(loss.item()) #append loss to array\n",
    "            num_times += 1\n",
    "        \n",
    "        if j % 100 == 0:\n",
    "            cnn.eval() #use cnn.eval() function to calculate accuracy \n",
    "            correct_train = correct_valid = 0 \n",
    "            total_train = total_valid = 0\n",
    "\n",
    "            # loop to calculate accuracy after each epoch of train_loader i.e test dataset\n",
    "            for image2,label2 in dataloaders['train_loader']: \n",
    "                image2 = Variable(image2)\n",
    "                result2 = cnn(image2) #use cnn to get result\n",
    "\n",
    "                _,pred2 = torch.max(result2.data,1) # use to find max score of a neuron w.r.t. 1\n",
    "\n",
    "                total_train += label2.size(0) \n",
    "                correct_train += (pred2 == label2).sum().item() #no of correct indentified labels \n",
    "                acc_train = (correct_train/total_train)*100 #calculate accuracy train dataset \n",
    "\n",
    "            print(\"Accuracy of Train Data : \",acc_train) #print accuracy of train dataset\n",
    "\n",
    "            for image3,label3 in dataloaders['test_loader']: # loop to calculate accuracy after each epoch of test_loader i.e test dataset\n",
    "                    image3 = Variable(image3)\n",
    "                    result3 = cnn(image3) #use cnn to get result\n",
    "\n",
    "                    _,pred3 = torch.max(result3.data,1) # use to find max score of a neuron w.r.t. 1\n",
    "\n",
    "                    total_valid += label3.size(0) \n",
    "                    correct_valid += (pred3 == label3).sum().item() #no of correct indentified labels \n",
    "                    acc_valid = (correct_valid/total_valid)*100 #calculate accuracy of test dataset\n",
    "\n",
    "            print(\"Accuracy of Validation Data : \",acc_valid) #print accuracy of test dataset\n",
    "    plt.plot([i for i in range(num_times)],losses,label='epoch'+str(i)) #plot for loss and update after each epoch \n",
    "    plt.legend(loc=1,mode='expanded',shadow=True,ncol=2)\n",
    "\n",
    "\n",
    "plt.show() #plt graph for loss "
   ]
  },
  {
   "cell_type": "markdown",
   "metadata": {},
   "source": [
    "We are using regularization to avoid overfitting also the model is selected such that it is not too complex. Regularization penalizes to avoid overfitting. Also complex model along with the relevent data also learns noise in the data to avoid doing so we are doing regularization and avoiding model to be too complex."
   ]
  },
  {
   "cell_type": "code",
   "execution_count": 10,
   "metadata": {},
   "outputs": [
    {
     "name": "stdout",
     "output_type": "stream",
     "text": [
      "Model Saved\n"
     ]
    }
   ],
   "source": [
    "save = 1 #use 0 or 1 \n",
    "if (save==True):\n",
    "        torch.save(cnn.state_dict(),'cnn.ckpt')\n",
    "        print(\"Model Saved\")"
   ]
  },
  {
   "cell_type": "markdown",
   "metadata": {},
   "source": [
    "#### Prediction and Confusion Matrix"
   ]
  },
  {
   "cell_type": "code",
   "execution_count": 11,
   "metadata": {},
   "outputs": [
    {
     "name": "stdout",
     "output_type": "stream",
     "text": [
      "Label ---  Banana \t Prediction ---  Banana\n",
      "Label ---  Pineapple \t Prediction ---  Strawberry\n",
      "Label ---  Apple \t Prediction ---  Strawberry\n",
      "Label ---  Orange \t Prediction ---  Orange\n",
      "Label ---  Orange \t Prediction ---  Orange\n",
      "Label ---  Orange \t Prediction ---  Orange\n",
      "Label ---  Banana \t Prediction ---  Banana\n",
      "Confusion Matrix : \n",
      " [[0 0 0 0 1]\n",
      " [0 2 0 0 0]\n",
      " [0 0 3 0 0]\n",
      " [0 0 0 0 1]\n",
      " [0 0 0 0 0]]\n"
     ]
    }
   ],
   "source": [
    "batch_size=7 \n",
    "comp_datasets = dataset.ImageDataset(df_test, transform=transforms.ToTensor()) #use ToTensor() transform on complete dataset\n",
    "comp_data = torch.utils.data.DataLoader(comp_datasets,batch_size,shuffle=True) #load complete dataset using torch.utils.data.DataLoader and shuffle dataset\n",
    "\n",
    "for w,[image1,label1] in enumerate(comp_data): #read one batch\n",
    "    image = Variable(image1) \n",
    "    label = Variable(label1)\n",
    "    result = cnn(image)  #use cnn model on each image of batch to find label\n",
    "    _,pred = torch.max(result.data,1)  #predict result using max function,it given neuron with maximum output\n",
    "    for h in range(0,batch_size):\n",
    "        print('Label --- ',fruit[np.array(label[h])],'\\t Prediction --- ',fruit[np.array(pred[h])]) #print original name and predicted name\n",
    "    print('Confusion Matrix : \\n',confusion_matrix(label, pred)) #Confusion matrix\n",
    "    break\n",
    "    "
   ]
  },
  {
   "cell_type": "code",
   "execution_count": null,
   "metadata": {},
   "outputs": [],
   "source": []
  }
 ],
 "metadata": {
  "kernelspec": {
   "display_name": "Python 3",
   "language": "python",
   "name": "python3"
  },
  "language_info": {
   "codemirror_mode": {
    "name": "ipython",
    "version": 3
   },
   "file_extension": ".py",
   "mimetype": "text/x-python",
   "name": "python",
   "nbconvert_exporter": "python",
   "pygments_lexer": "ipython3",
   "version": "3.7.6"
  }
 },
 "nbformat": 4,
 "nbformat_minor": 2
}
